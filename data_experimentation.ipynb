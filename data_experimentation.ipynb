{
 "cells": [
  {
   "cell_type": "code",
   "execution_count": 29,
   "metadata": {},
   "outputs": [],
   "source": [
    "# import the important libraries\n",
    "import pandas as pd\n",
    "\n",
    "import numpy as np\n",
    "\n",
    "#graphing libraries\n",
    "import plotly.plotly as py\n",
    "import plotly.graph_objs as go"
   ]
  },
  {
   "cell_type": "code",
   "execution_count": 10,
   "metadata": {},
   "outputs": [],
   "source": [
    "# load data of all footballers in fifa18 \n",
    "fifa_data = pd.read_csv(\"https://raw.githubusercontent.com/amanthedorkknight/fifa18-all-player-statistics/master/2019/data.csv\")\n"
   ]
  },
  {
   "cell_type": "code",
   "execution_count": 11,
   "metadata": {
    "scrolled": true
   },
   "outputs": [
    {
     "name": "stdout",
     "output_type": "stream",
     "text": [
      "   Unnamed: 0      ID               Name  Age  \\\n",
      "0           0  158023           L. Messi   31   \n",
      "1           1   20801  Cristiano Ronaldo   33   \n",
      "2           2  190871          Neymar Jr   26   \n",
      "3           3  193080             De Gea   27   \n",
      "4           4  192985       K. De Bruyne   27   \n",
      "\n",
      "                                            Photo Nationality  \\\n",
      "0  https://cdn.sofifa.org/players/4/19/158023.png   Argentina   \n",
      "1   https://cdn.sofifa.org/players/4/19/20801.png    Portugal   \n",
      "2  https://cdn.sofifa.org/players/4/19/190871.png      Brazil   \n",
      "3  https://cdn.sofifa.org/players/4/19/193080.png       Spain   \n",
      "4  https://cdn.sofifa.org/players/4/19/192985.png     Belgium   \n",
      "\n",
      "                                  Flag  Overall  Potential  \\\n",
      "0  https://cdn.sofifa.org/flags/52.png       94         94   \n",
      "1  https://cdn.sofifa.org/flags/38.png       94         94   \n",
      "2  https://cdn.sofifa.org/flags/54.png       92         93   \n",
      "3  https://cdn.sofifa.org/flags/45.png       91         93   \n",
      "4   https://cdn.sofifa.org/flags/7.png       91         92   \n",
      "\n",
      "                  Club  ... Composure Marking StandingTackle  SlidingTackle  \\\n",
      "0         FC Barcelona  ...      96.0    33.0           28.0           26.0   \n",
      "1             Juventus  ...      95.0    28.0           31.0           23.0   \n",
      "2  Paris Saint-Germain  ...      94.0    27.0           24.0           33.0   \n",
      "3    Manchester United  ...      68.0    15.0           21.0           13.0   \n",
      "4      Manchester City  ...      88.0    68.0           58.0           51.0   \n",
      "\n",
      "  GKDiving  GKHandling  GKKicking  GKPositioning GKReflexes Release Clause  \n",
      "0      6.0        11.0       15.0           14.0        8.0        €226.5M  \n",
      "1      7.0        11.0       15.0           14.0       11.0        €127.1M  \n",
      "2      9.0         9.0       15.0           15.0       11.0        €228.1M  \n",
      "3     90.0        85.0       87.0           88.0       94.0        €138.6M  \n",
      "4     15.0        13.0        5.0           10.0       13.0        €196.4M  \n",
      "\n",
      "[5 rows x 89 columns]\n"
     ]
    }
   ],
   "source": [
    "# check to see if load is sucessfull\n",
    "print(fifa_data.head())"
   ]
  },
  {
   "cell_type": "code",
   "execution_count": 12,
   "metadata": {},
   "outputs": [],
   "source": [
    "# find all players who are young with high potential\n",
    "prospects = fifa_data.loc[(fifa_data['Age'] < 23) & (fifa_data['Potential'] > 85)]"
   ]
  },
  {
   "cell_type": "code",
   "execution_count": 13,
   "metadata": {},
   "outputs": [],
   "source": [
    "# all highly rated United States youngsters\n",
    "US_hyped_players = prospects.loc[prospects['Nationality'] == 'United States']"
   ]
  },
  {
   "cell_type": "code",
   "execution_count": 14,
   "metadata": {},
   "outputs": [],
   "source": [
    "US_hyped_players.set_index('Potential', inplace = True)"
   ]
  },
  {
   "cell_type": "code",
   "execution_count": 15,
   "metadata": {},
   "outputs": [],
   "source": [
    "#print(US_hyped)"
   ]
  },
  {
   "cell_type": "code",
   "execution_count": 16,
   "metadata": {},
   "outputs": [
    {
     "data": {
      "text/html": [
       "<div>\n",
       "<style scoped>\n",
       "    .dataframe tbody tr th:only-of-type {\n",
       "        vertical-align: middle;\n",
       "    }\n",
       "\n",
       "    .dataframe tbody tr th {\n",
       "        vertical-align: top;\n",
       "    }\n",
       "\n",
       "    .dataframe thead th {\n",
       "        text-align: right;\n",
       "    }\n",
       "</style>\n",
       "<table border=\"1\" class=\"dataframe\">\n",
       "  <thead>\n",
       "    <tr style=\"text-align: right;\">\n",
       "      <th></th>\n",
       "      <th>Unnamed: 0</th>\n",
       "      <th>ID</th>\n",
       "      <th>Name</th>\n",
       "      <th>Age</th>\n",
       "      <th>Photo</th>\n",
       "      <th>Nationality</th>\n",
       "      <th>Flag</th>\n",
       "      <th>Overall</th>\n",
       "      <th>Potential</th>\n",
       "      <th>Club</th>\n",
       "      <th>...</th>\n",
       "      <th>Composure</th>\n",
       "      <th>Marking</th>\n",
       "      <th>StandingTackle</th>\n",
       "      <th>SlidingTackle</th>\n",
       "      <th>GKDiving</th>\n",
       "      <th>GKHandling</th>\n",
       "      <th>GKKicking</th>\n",
       "      <th>GKPositioning</th>\n",
       "      <th>GKReflexes</th>\n",
       "      <th>Release Clause</th>\n",
       "    </tr>\n",
       "  </thead>\n",
       "  <tbody>\n",
       "    <tr>\n",
       "      <th>25</th>\n",
       "      <td>25</td>\n",
       "      <td>231747</td>\n",
       "      <td>K. Mbappé</td>\n",
       "      <td>19</td>\n",
       "      <td>https://cdn.sofifa.org/players/4/19/231747.png</td>\n",
       "      <td>France</td>\n",
       "      <td>https://cdn.sofifa.org/flags/18.png</td>\n",
       "      <td>88</td>\n",
       "      <td>95</td>\n",
       "      <td>Paris Saint-Germain</td>\n",
       "      <td>...</td>\n",
       "      <td>86.0</td>\n",
       "      <td>34.0</td>\n",
       "      <td>34.0</td>\n",
       "      <td>32.0</td>\n",
       "      <td>13.0</td>\n",
       "      <td>5.0</td>\n",
       "      <td>7.0</td>\n",
       "      <td>11.0</td>\n",
       "      <td>6.0</td>\n",
       "      <td>€166.1M</td>\n",
       "    </tr>\n",
       "  </tbody>\n",
       "</table>\n",
       "<p>1 rows × 89 columns</p>\n",
       "</div>"
      ],
      "text/plain": [
       "    Unnamed: 0      ID       Name  Age  \\\n",
       "25          25  231747  K. Mbappé   19   \n",
       "\n",
       "                                             Photo Nationality  \\\n",
       "25  https://cdn.sofifa.org/players/4/19/231747.png      France   \n",
       "\n",
       "                                   Flag  Overall  Potential  \\\n",
       "25  https://cdn.sofifa.org/flags/18.png       88         95   \n",
       "\n",
       "                   Club  ... Composure Marking StandingTackle  SlidingTackle  \\\n",
       "25  Paris Saint-Germain  ...      86.0    34.0           34.0           32.0   \n",
       "\n",
       "   GKDiving  GKHandling  GKKicking  GKPositioning GKReflexes Release Clause  \n",
       "25     13.0         5.0        7.0           11.0        6.0        €166.1M  \n",
       "\n",
       "[1 rows x 89 columns]"
      ]
     },
     "execution_count": 16,
     "metadata": {},
     "output_type": "execute_result"
    }
   ],
   "source": [
    "# Kylian Mbappe data \n",
    "prospects[prospects['Name'] == 'K. Mbappé']"
   ]
  },
  {
   "cell_type": "code",
   "execution_count": 17,
   "metadata": {},
   "outputs": [
    {
     "name": "stdout",
     "output_type": "stream",
     "text": [
      "                      Name  Age   Value  Potential                     Club  \\\n",
      "11457          W. Geubbels   16     €1M         86                AS Monaco   \n",
      "13927              A. Dabo   17   €650K         86                FC Nantes   \n",
      "1143       Vinícius Júnior   17  €17.5M         92              Real Madrid   \n",
      "3692             A. Davies   17     €6M         87   Vancouver Whitecaps FC   \n",
      "4272              Paulinho   17   €4.7M         86      Bayer 04 Leverkusen   \n",
      "5121        C. Hudson-Odoi   17   €3.5M         87                  Chelsea   \n",
      "7217          Sergio Gómez   17   €1.8M         87        Borussia Dortmund   \n",
      "7758           P. Pellegri   17   €1.7M         88                AS Monaco   \n",
      "5007            Kangin Lee   17   €3.5M         88              Valencia CF   \n",
      "10801            E. Ampadu   17   €1.1M         86                  Chelsea   \n",
      "8191              A. Gomes   17   €1.5M         87        Manchester United   \n",
      "7414             S. Tonali   18   €1.8M         89                  Brescia   \n",
      "2640        G. Chakvetadze   18     €7M         86                 KAA Gent   \n",
      "2725         Ferrán Torres   18     €7M         86              Valencia CF   \n",
      "1004             J. Sancho   18  €14.5M         89        Borussia Dortmund   \n",
      "2903              P. Foden   18     €8M         88          Manchester City   \n",
      "9935            C. Früchtl   18     €1M         86        FC Bayern München   \n",
      "3252            João Félix   18   €6.5M         88               SL Benfica   \n",
      "9485               S. Diop   18   €1.5M         87                AS Monaco   \n",
      "3418               M. Kean   18   €6.5M         87                 Juventus   \n",
      "8700        M. Gibbs-White   18   €1.6M         86  Wolverhampton Wanderers   \n",
      "226             M. de Ligt   18    €27M         91                     Ajax   \n",
      "6032                J. Arp   18   €2.2M         88             Hamburger SV   \n",
      "6102            Riqui Puig   18   €2.1M         89             FC Barcelona   \n",
      "6559           Brahim Díaz   18   €2.2M         86          Manchester City   \n",
      "8145             A. Gouiri   18   €1.6M         86       Olympique Lyonnais   \n",
      "3776             B. Kamara   18     €6M         88   Olympique de Marseille   \n",
      "1800          R. Sessegnon   18    €12M         88                   Fulham   \n",
      "734              A. Lafont   19    €14M         90               Fiorentina   \n",
      "735    T. Alexander-Arnold   19    €14M         88                Liverpool   \n",
      "...                    ...  ...     ...        ...                      ...   \n",
      "755               J. Gomez   21  €14.5M         88                Liverpool   \n",
      "110             D. Sánchez   22    €34M         88        Tottenham Hotspur   \n",
      "115                N. Süle   22  €36.5M         90        FC Bayern München   \n",
      "116             A. Martial   22  €42.5M         90        Manchester United   \n",
      "117                D. Alli   22  €42.5M         90        Tottenham Hotspur   \n",
      "55                 L. Sané   22    €61M         92          Manchester City   \n",
      "160            P. Kimpembe   22  €30.5M         89      Paris Saint-Germain   \n",
      "163               T. Lemar   22  €35.5M         89          Atlético Madrid   \n",
      "164               K. Coman   22    €34M         87        FC Bayern München   \n",
      "165                 J. Tah   22  €29.5M         88      Bayer 04 Leverkusen   \n",
      "167              T. Werner   22  €34.5M         87               RB Leipzig   \n",
      "79           Marco Asensio   22    €54M         92              Real Madrid   \n",
      "179              S. Gnabry   22  €34.5M         88        FC Bayern München   \n",
      "336         A. Christensen   22  €21.5M         88                  Chelsea   \n",
      "342               Grimaldo   22  €20.5M         87               SL Benfica   \n",
      "569            André Silva   22    €19M         87               Sevilla FC   \n",
      "435              M. Dahoud   22    €20M         86        Borussia Dortmund   \n",
      "235            L. Torreira   22    €25M         87                  Arsenal   \n",
      "576              A. Diallo   22    €15M         86        Borussia Dortmund   \n",
      "417              Odriozola   22  €18.5M         88              Real Madrid   \n",
      "238           L. Hernández   22  €25.5M         88          Atlético Madrid   \n",
      "244              J. Brandt   22  €30.5M         88      Bayer 04 Leverkusen   \n",
      "427            G. Lo Celso   22    €20M         86               Real Betis   \n",
      "322              M. Akanji   22    €21M         87        Borussia Dortmund   \n",
      "424              B. Pavard   22  €17.5M         86            VfB Stuttgart   \n",
      "325          Pablo Fornals   22    €24M         86            Villarreal CF   \n",
      "326                 Fabián   22    €26M         89                   Napoli   \n",
      "329              H. Lozano   22    €24M         86                      PSV   \n",
      "227                  Rodri   22    €29M         87          Atlético Madrid   \n",
      "1190             P. Schick   22    €14M         86                     Roma   \n",
      "\n",
      "       SprintSpeed  \n",
      "11457         84.0  \n",
      "13927         65.0  \n",
      "1143          94.0  \n",
      "3692          93.0  \n",
      "4272          78.0  \n",
      "5121          84.0  \n",
      "7217          68.0  \n",
      "7758          73.0  \n",
      "5007          67.0  \n",
      "10801         58.0  \n",
      "8191          69.0  \n",
      "7414          68.0  \n",
      "2640          83.0  \n",
      "2725          76.0  \n",
      "1004          86.0  \n",
      "2903          71.0  \n",
      "9935          23.0  \n",
      "3252          80.0  \n",
      "9485          72.0  \n",
      "3418          79.0  \n",
      "8700          63.0  \n",
      "226           72.0  \n",
      "6032          68.0  \n",
      "6102          66.0  \n",
      "6559          71.0  \n",
      "8145          73.0  \n",
      "3776          70.0  \n",
      "1800          87.0  \n",
      "734           45.0  \n",
      "735           79.0  \n",
      "...            ...  \n",
      "755           83.0  \n",
      "110           79.0  \n",
      "115           84.0  \n",
      "116           89.0  \n",
      "117           76.0  \n",
      "55            96.0  \n",
      "160           78.0  \n",
      "163           84.0  \n",
      "164           93.0  \n",
      "165           77.0  \n",
      "167           93.0  \n",
      "79            82.0  \n",
      "179           90.0  \n",
      "336           70.0  \n",
      "342           83.0  \n",
      "569           83.0  \n",
      "435           67.0  \n",
      "235           74.0  \n",
      "576           77.0  \n",
      "417           82.0  \n",
      "238           84.0  \n",
      "244           84.0  \n",
      "427           75.0  \n",
      "322           86.0  \n",
      "424           73.0  \n",
      "325           66.0  \n",
      "326           67.0  \n",
      "329           93.0  \n",
      "227           66.0  \n",
      "1190          73.0  \n",
      "\n",
      "[128 rows x 6 columns]\n"
     ]
    }
   ],
   "source": [
    "# players who are younger than 23 and have more than 85 in potential\n",
    "young_strikers = fifa_data.loc[(fifa_data['Age'] < 23) & (fifa_data['Potential'] > 85)]\n",
    "\n",
    "# filters the pool farther with players either having a high finishing or a high sprint speed\n",
    "# as both are important in the game\n",
    "young_strikers[(young_strikers['Finishing'] > 70) | (young_strikers['SprintSpeed'] > 75)] \n",
    "\n",
    "#removes all the unnecessary columns and data\n",
    "young_str = young_strikers[['Name','Age','Value', 'Potential', 'Club', 'SprintSpeed']]\n",
    "\n",
    "# sort data by Age of players, with the youngest at the top\n",
    "print(young_str.sort_values(by=['Age'], ascending=True))"
   ]
  },
  {
   "cell_type": "code",
   "execution_count": 18,
   "metadata": {},
   "outputs": [
    {
     "data": {
      "text/plain": [
       "'L. Messi'"
      ]
     },
     "execution_count": 18,
     "metadata": {},
     "output_type": "execute_result"
    }
   ],
   "source": [
    "fifa_data.iloc[0,2]"
   ]
  },
  {
   "cell_type": "code",
   "execution_count": 35,
   "metadata": {},
   "outputs": [
    {
     "name": "stdout",
     "output_type": "stream",
     "text": [
      "               Nationality\n",
      "0                Argentina\n",
      "1                 Portugal\n",
      "2                   Brazil\n",
      "3                    Spain\n",
      "4                  Belgium\n",
      "5                  Belgium\n",
      "6                  Croatia\n",
      "7                  Uruguay\n",
      "8                    Spain\n",
      "9                 Slovenia\n",
      "10                  Poland\n",
      "11                 Germany\n",
      "12                 Uruguay\n",
      "13                   Spain\n",
      "14                  France\n",
      "15               Argentina\n",
      "16                 England\n",
      "17                  France\n",
      "18                 Germany\n",
      "19                 Belgium\n",
      "20                   Spain\n",
      "21                 Uruguay\n",
      "22                 Germany\n",
      "23               Argentina\n",
      "24                   Italy\n",
      "25                  France\n",
      "26                   Egypt\n",
      "27                  Brazil\n",
      "28                Colombia\n",
      "29                   Italy\n",
      "...                    ...\n",
      "18177  Republic of Ireland\n",
      "18178               Sweden\n",
      "18179              England\n",
      "18180             Scotland\n",
      "18181  Republic of Ireland\n",
      "18182             Colombia\n",
      "18183              England\n",
      "18184              England\n",
      "18185  Republic of Ireland\n",
      "18186             China PR\n",
      "18187              Germany\n",
      "18188                Wales\n",
      "18189              Germany\n",
      "18190              England\n",
      "18191              England\n",
      "18192              England\n",
      "18193                Chile\n",
      "18194                Italy\n",
      "18195  Republic of Ireland\n",
      "18196                Japan\n",
      "18197  Republic of Ireland\n",
      "18198              England\n",
      "18199               Canada\n",
      "18200             Scotland\n",
      "18201  Republic of Ireland\n",
      "18202              England\n",
      "18203               Sweden\n",
      "18204              England\n",
      "18205              England\n",
      "18206              England\n",
      "\n",
      "[18207 rows x 1 columns]\n"
     ]
    }
   ],
   "source": [
    "# number of nations\n",
    "player_num = []\n",
    "player_num.append(len(fifa_data[fifa_data['Nationality'] == 'France']))\n",
    "player_num.append(len(fifa_data[fifa_data['Nationality'] == 'England']))\n",
    "player_num.append(len(fifa_data[fifa_data['Nationality'] == 'Germany']))\n",
    "player_num.append(len(fifa_data[fifa_data['Nationality'] == 'Spain']))\n",
    "total = np.array(player_num)\n",
    "total_big_4 = total.sum()\n",
    "print(fifa_data[['Nationality']])\n",
    "player_num.append(len(fifa_data[['Nationality']])-total_big_4)"
   ]
  },
  {
   "cell_type": "code",
   "execution_count": 36,
   "metadata": {},
   "outputs": [
    {
     "name": "stdout",
     "output_type": "stream",
     "text": [
      "[914, 1662, 1198, 1072, 13361]\n",
      "4846\n"
     ]
    }
   ],
   "source": [
    "print(player_num)\n",
    "print(total.sum())"
   ]
  },
  {
   "cell_type": "code",
   "execution_count": 37,
   "metadata": {},
   "outputs": [],
   "source": [
    "labels = ['France','England','Germany','Spain', 'Rest of the world']"
   ]
  },
  {
   "cell_type": "code",
   "execution_count": 38,
   "metadata": {},
   "outputs": [
    {
     "name": "stdout",
     "output_type": "stream",
     "text": [
      "High five! You successfully sent some data to your account on plotly. View your plot in your browser at https://plot.ly/~gadkari/0 or inside your plot.ly account where it is named 'big_4player_distro'\n"
     ]
    },
    {
     "name": "stderr",
     "output_type": "stream",
     "text": [
      "C:\\Users\\ameya\\Anaconda3\\lib\\site-packages\\IPython\\core\\display.py:689: UserWarning:\n",
      "\n",
      "Consider using IPython.display.IFrame instead\n",
      "\n"
     ]
    },
    {
     "data": {
      "text/html": [
       "<iframe id=\"igraph\" scrolling=\"no\" style=\"border:none;\" seamless=\"seamless\" src=\"https://plot.ly/~gadkari/0.embed\" height=\"525px\" width=\"100%\"></iframe>"
      ],
      "text/plain": [
       "<chart_studio.tools.PlotlyDisplay object>"
      ]
     },
     "execution_count": 38,
     "metadata": {},
     "output_type": "execute_result"
    }
   ],
   "source": [
    "trace = go.Pie(labels=labels, values=player_num)\n",
    "\n",
    "py.iplot([trace], filename='big_4player_distro')"
   ]
  },
  {
   "cell_type": "code",
   "execution_count": 43,
   "metadata": {},
   "outputs": [
    {
     "name": "stdout",
     "output_type": "stream",
     "text": [
      "[94 94 93 ... 67 66 66]\n"
     ]
    }
   ],
   "source": [
    "# Scatter plot of potential vs Age\n",
    "data_x = fifa_data['Potential']\n",
    "# print(data_x)\n",
    "x = np.array(data_x)\n",
    "y = np.array(fifa_data['Age'])\n",
    "print(x)"
   ]
  },
  {
   "cell_type": "code",
   "execution_count": 46,
   "metadata": {},
   "outputs": [],
   "source": [
    "scatter = go.Scatter(x=y,y=x, mode = 'markers')"
   ]
  },
  {
   "cell_type": "code",
   "execution_count": 48,
   "metadata": {},
   "outputs": [
    {
     "data": {
      "text/html": [
       "<iframe id=\"igraph\" scrolling=\"no\" style=\"border:none;\" seamless=\"seamless\" src=\"https://plot.ly/~gadkari/2.embed\" height=\"525px\" width=\"100%\"></iframe>"
      ],
      "text/plain": [
       "<chart_studio.tools.PlotlyDisplay object>"
      ]
     },
     "execution_count": 48,
     "metadata": {},
     "output_type": "execute_result"
    }
   ],
   "source": [
    "py.iplot([scatter], filename = 'age vs potential')"
   ]
  },
  {
   "cell_type": "code",
   "execution_count": null,
   "metadata": {},
   "outputs": [],
   "source": []
  }
 ],
 "metadata": {
  "kernelspec": {
   "display_name": "Python 3",
   "language": "python",
   "name": "python3"
  },
  "language_info": {
   "codemirror_mode": {
    "name": "ipython",
    "version": 3
   },
   "file_extension": ".py",
   "mimetype": "text/x-python",
   "name": "python",
   "nbconvert_exporter": "python",
   "pygments_lexer": "ipython3",
   "version": "3.7.3"
  }
 },
 "nbformat": 4,
 "nbformat_minor": 2
}
