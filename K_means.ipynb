{
 "cells": [
  {
   "cell_type": "code",
   "execution_count": 26,
   "metadata": {},
   "outputs": [
    {
     "ename": "ModuleNotFoundError",
     "evalue": "No module named 'mpld3'",
     "output_type": "error",
     "traceback": [
      "\u001b[1;31m---------------------------------------------------------------------------\u001b[0m",
      "\u001b[1;31mModuleNotFoundError\u001b[0m                       Traceback (most recent call last)",
      "\u001b[1;32m<ipython-input-26-f2fb15e7b79a>\u001b[0m in \u001b[0;36m<module>\u001b[1;34m\u001b[0m\n\u001b[0;32m     15\u001b[0m \u001b[1;32mimport\u001b[0m \u001b[0mmath\u001b[0m\u001b[1;33m\u001b[0m\u001b[1;33m\u001b[0m\u001b[0m\n\u001b[0;32m     16\u001b[0m \u001b[1;33m\u001b[0m\u001b[0m\n\u001b[1;32m---> 17\u001b[1;33m \u001b[1;32mimport\u001b[0m \u001b[0mmatplotlib\u001b[0m\u001b[1;33m.\u001b[0m\u001b[0mpyplot\u001b[0m \u001b[1;32mas\u001b[0m \u001b[0mplt\u001b[0m\u001b[1;33m,\u001b[0m \u001b[0mmpld3\u001b[0m\u001b[1;33m\u001b[0m\u001b[1;33m\u001b[0m\u001b[0m\n\u001b[0m\u001b[0;32m     18\u001b[0m \u001b[1;32mfrom\u001b[0m \u001b[0mmatplotlib\u001b[0m \u001b[1;32mimport\u001b[0m \u001b[0mstyle\u001b[0m\u001b[1;33m\u001b[0m\u001b[1;33m\u001b[0m\u001b[0m\n\u001b[0;32m     19\u001b[0m \u001b[1;33m\u001b[0m\u001b[0m\n",
      "\u001b[1;31mModuleNotFoundError\u001b[0m: No module named 'mpld3'"
     ]
    }
   ],
   "source": [
    "# step 1: Clean the data, normalize params and give numerical values to non numerical attributes\n",
    "\n",
    "# step 2: Choose k random centriods\n",
    "\n",
    "# step 3: find the distance of each data point to each centriod\n",
    "\n",
    "# step 4: re-calculate centriod \n",
    "\n",
    "# step 5: stop iterating once difference between old and new centriod is neglible\n",
    "\n",
    "import pandas as pd\n",
    "\n",
    "import numpy as np\n",
    "\n",
    "import math\n",
    "\n",
    "import matplotlib.pyplot as plt, mpld3\n",
    "from matplotlib import style\n",
    "\n",
    "style.use('ggplot')\n",
    "\n",
    "# import data        \n",
    "url = \"https://raw.githubusercontent.com/madhug-nadig/Machine-Learning-Algorithms-from-Scratch/master/data/ipl.csv\"\n",
    "data = pd.read_csv(url)\n",
    "print(data)\n",
    "\n",
    "X = data.values  \n"
   ]
  },
  {
   "cell_type": "code",
   "execution_count": 22,
   "metadata": {},
   "outputs": [],
   "source": [
    "class Kmeans:\n",
    "    def __init__(self, k = 2, tol = 0.0001, max_iter = 500):\n",
    "        self.k_value = k\n",
    "        self.tolerance = tol\n",
    "        self.max_iterations = max_iter\n",
    "    \n",
    "    def cluster(self, data):\n",
    "        \n",
    "        # create dictionary of centriods \n",
    "        self.centroids = {}\n",
    "        \n",
    "        # pick first k centroids at random\n",
    "        for i in range(self.k_value):\n",
    "            self.centroids[i] = data[i]\n",
    "        \n",
    "        # start iterating till max_iterations \n",
    "        for i in range(self.max_iterations):\n",
    "            self.classes = {}\n",
    "            \n",
    "            # clear classes\n",
    "            for i in range(self.k_value):\n",
    "                self.classes[i] = []\n",
    "\n",
    "            for features in data:\n",
    "                # calculating the distance of each point to the each centroid\n",
    "                distances = [np.linalg.norm(features - self.centroids[centroid]) for centroid in self.centroids] \n",
    "                \n",
    "                # finding the closest centroid\n",
    "                close_centroid = distances.index(min(distances))\n",
    "                \n",
    "                # add this data point to the classes \n",
    "                self.classes[close_centroid].append(features)\n",
    "                \n",
    "            #recalculate the centroids\n",
    "            \n",
    "            prev_cent = dict(self.centroids)\n",
    "            \n",
    "            \n",
    "            for cent in self.classes:\n",
    "                self.centroids[cent] = np.average(self.classes[cent], axis = 0)\n",
    "            \n",
    "            # bool\n",
    "            isDone = True\n",
    "            \n",
    "            # check to see if there is a neglibile difference \n",
    "            \n",
    "            for cent in self.centroids:\n",
    "                if np.sum((prev_cent[cent] - self.centroids[cent])/self.centroids[cent] * 100)  > self.tolerance:\n",
    "                    isDone = False\n",
    "            \n",
    "            if isDone:\n",
    "                break\n",
    "                \n",
    "        "
   ]
  },
  {
   "cell_type": "code",
   "execution_count": 23,
   "metadata": {},
   "outputs": [],
   "source": [
    "k = Kmeans(3)\n",
    "k.cluster(X)\n",
    "\n"
   ]
  },
  {
   "cell_type": "code",
   "execution_count": null,
   "metadata": {},
   "outputs": [],
   "source": [
    "colors = 10*[\"r\", \"g\", \"c\", \"b\", \"k\"]\n",
    "\n",
    "for centroid in k.centroids:\n",
    "    plt.scatter(k.centroids[centroid][0], k.centroids[centroid][1], s = 130, marker = \"x\")\n",
    "\n",
    "for classification in k.classes:\n",
    "    color = colors[classification]\n",
    "    for features in k.classes[classification]:\n",
    "        plt.scatter(features[0], features[1], color = color,s = 30)\n",
    "\n",
    "mpld3.show()"
   ]
  },
  {
   "cell_type": "code",
   "execution_count": null,
   "metadata": {},
   "outputs": [],
   "source": []
  }
 ],
 "metadata": {
  "kernelspec": {
   "display_name": "Python 3",
   "language": "python",
   "name": "python3"
  },
  "language_info": {
   "codemirror_mode": {
    "name": "ipython",
    "version": 3
   },
   "file_extension": ".py",
   "mimetype": "text/x-python",
   "name": "python",
   "nbconvert_exporter": "python",
   "pygments_lexer": "ipython3",
   "version": "3.7.3"
  }
 },
 "nbformat": 4,
 "nbformat_minor": 2
}
